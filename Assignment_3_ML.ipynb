{
  "nbformat": 4,
  "nbformat_minor": 0,
  "metadata": {
    "colab": {
      "name": "Assignment#3-ML_Ruben_Kritika.ipynb",
      "version": "0.3.2",
      "provenance": [],
      "collapsed_sections": [
        "bkU3SdDgAmhc",
        "dJ43k9TXAuqT"
      ],
      "include_colab_link": true
    },
    "kernelspec": {
      "name": "python3",
      "display_name": "Python 3"
    }
  },
  "cells": [
    {
      "cell_type": "markdown",
      "metadata": {
        "id": "view-in-github",
        "colab_type": "text"
      },
      "source": [
        "<a href=\"https://colab.research.google.com/github/rubencg195/ML_Course_6915/blob/master/Assignment_3_ML.ipynb\" target=\"_parent\"><img src=\"https://colab.research.google.com/assets/colab-badge.svg\" alt=\"Open In Colab\"/></a>"
      ]
    },
    {
      "metadata": {
        "id": "bkU3SdDgAmhc",
        "colab_type": "text"
      },
      "cell_type": "markdown",
      "source": [
        "# Assignment #3 - Machine Learning\n",
        "\n",
        "1. Run Random Forest\n",
        "2. Return Importance Feature Rank\n",
        "3. Filter Data based on Importance\n",
        "4. Perform Cross Validation Based on Training Data (KNN, LDA, Random Forst)\n",
        "5. Generate AUPRC and ROC Curves\n",
        "6. Predict Class Probability for Test Instances"
      ]
    },
    {
      "metadata": {
        "id": "_Kg2tXrDDsQX",
        "colab_type": "code",
        "colab": {}
      },
      "cell_type": "code",
      "source": [
        "import pandas as pd\n",
        "import numpy  as np \n",
        "import matplotlib.pyplot as plt"
      ],
      "execution_count": 0,
      "outputs": []
    },
    {
      "metadata": {
        "id": "dJ43k9TXAuqT",
        "colab_type": "text"
      },
      "cell_type": "markdown",
      "source": [
        "# Upload Data"
      ]
    },
    {
      "metadata": {
        "id": "-y4PepD242LH",
        "colab_type": "code",
        "colab": {
          "base_uri": "https://localhost:8080/",
          "height": 139
        },
        "outputId": "9f2e77e4-8d82-4184-ced9-2a5a12231c4d"
      },
      "cell_type": "code",
      "source": [
        "!git clone https://github.com/rubencg195/ML_Course_6915"
      ],
      "execution_count": 3,
      "outputs": [
        {
          "output_type": "stream",
          "text": [
            "Cloning into 'ML_Course_6915'...\n",
            "remote: Enumerating objects: 7, done.\u001b[K\n",
            "remote: Counting objects: 100% (7/7), done.\u001b[K\n",
            "remote: Compressing objects: 100% (5/5), done.\u001b[K\n",
            "remote: Total 7 (delta 1), reused 0 (delta 0), pack-reused 0\u001b[K\n",
            "Unpacking objects: 100% (7/7), done.\n"
          ],
          "name": "stdout"
        }
      ]
    },
    {
      "metadata": {
        "id": "gpxnapSeDVtK",
        "colab_type": "code",
        "colab": {}
      },
      "cell_type": "code",
      "source": [
        "root = \"ML_Course_6915/\"\n",
        "train_filename = root+\"A3_training_dataset.tsv\"\n",
        "test_filename  = root+\"A3_test_dataset.tsv\""
      ],
      "execution_count": 0,
      "outputs": []
    },
    {
      "metadata": {
        "id": "L5xUzMLyDgJh",
        "colab_type": "code",
        "colab": {}
      },
      "cell_type": "code",
      "source": [
        "train_df = pd.read_csv(train_filename, sep='\\t', header=None)\n",
        "test_df  = pd.read_csv(test_filename, sep='\\t', header=None)"
      ],
      "execution_count": 0,
      "outputs": []
    },
    {
      "metadata": {
        "id": "JJUKsdcsELSa",
        "colab_type": "code",
        "colab": {
          "base_uri": "https://localhost:8080/",
          "height": 321
        },
        "outputId": "2368b373-9fbe-47de-a3ce-1a27e7710dca"
      },
      "cell_type": "code",
      "source": [
        "train_df.head()"
      ],
      "execution_count": 6,
      "outputs": [
        {
          "output_type": "execute_result",
          "data": {
            "text/html": [
              "<div>\n",
              "<style scoped>\n",
              "    .dataframe tbody tr th:only-of-type {\n",
              "        vertical-align: middle;\n",
              "    }\n",
              "\n",
              "    .dataframe tbody tr th {\n",
              "        vertical-align: top;\n",
              "    }\n",
              "\n",
              "    .dataframe thead th {\n",
              "        text-align: right;\n",
              "    }\n",
              "</style>\n",
              "<table border=\"1\" class=\"dataframe\">\n",
              "  <thead>\n",
              "    <tr style=\"text-align: right;\">\n",
              "      <th></th>\n",
              "      <th>0</th>\n",
              "      <th>1</th>\n",
              "      <th>2</th>\n",
              "      <th>3</th>\n",
              "      <th>4</th>\n",
              "      <th>5</th>\n",
              "      <th>6</th>\n",
              "      <th>7</th>\n",
              "      <th>8</th>\n",
              "      <th>9</th>\n",
              "      <th>...</th>\n",
              "      <th>62</th>\n",
              "      <th>63</th>\n",
              "      <th>64</th>\n",
              "      <th>65</th>\n",
              "      <th>66</th>\n",
              "      <th>67</th>\n",
              "      <th>68</th>\n",
              "      <th>69</th>\n",
              "      <th>70</th>\n",
              "      <th>71</th>\n",
              "    </tr>\n",
              "  </thead>\n",
              "  <tbody>\n",
              "    <tr>\n",
              "      <th>0</th>\n",
              "      <td>-46.8</td>\n",
              "      <td>-24</td>\n",
              "      <td>1000</td>\n",
              "      <td>-118</td>\n",
              "      <td>0</td>\n",
              "      <td>0</td>\n",
              "      <td>0</td>\n",
              "      <td>0.025862</td>\n",
              "      <td>0.017241</td>\n",
              "      <td>0.000000</td>\n",
              "      <td>...</td>\n",
              "      <td>0.025862</td>\n",
              "      <td>0.025862</td>\n",
              "      <td>0.025862</td>\n",
              "      <td>0.034483</td>\n",
              "      <td>0.017241</td>\n",
              "      <td>0.025862</td>\n",
              "      <td>0.000000</td>\n",
              "      <td>0.043103</td>\n",
              "      <td>0.025862</td>\n",
              "      <td>1</td>\n",
              "    </tr>\n",
              "    <tr>\n",
              "      <th>1</th>\n",
              "      <td>-28.5</td>\n",
              "      <td>-15</td>\n",
              "      <td>845</td>\n",
              "      <td>-80</td>\n",
              "      <td>0</td>\n",
              "      <td>7</td>\n",
              "      <td>0</td>\n",
              "      <td>0.017391</td>\n",
              "      <td>0.043478</td>\n",
              "      <td>0.008696</td>\n",
              "      <td>...</td>\n",
              "      <td>0.008696</td>\n",
              "      <td>0.008696</td>\n",
              "      <td>0.008696</td>\n",
              "      <td>0.026087</td>\n",
              "      <td>0.008696</td>\n",
              "      <td>0.000000</td>\n",
              "      <td>0.008696</td>\n",
              "      <td>0.000000</td>\n",
              "      <td>0.000000</td>\n",
              "      <td>1</td>\n",
              "    </tr>\n",
              "    <tr>\n",
              "      <th>2</th>\n",
              "      <td>-92.1</td>\n",
              "      <td>-96</td>\n",
              "      <td>0</td>\n",
              "      <td>-42</td>\n",
              "      <td>1</td>\n",
              "      <td>209</td>\n",
              "      <td>1</td>\n",
              "      <td>0.027701</td>\n",
              "      <td>0.002770</td>\n",
              "      <td>0.008310</td>\n",
              "      <td>...</td>\n",
              "      <td>0.005540</td>\n",
              "      <td>0.047091</td>\n",
              "      <td>0.011080</td>\n",
              "      <td>0.016620</td>\n",
              "      <td>0.008310</td>\n",
              "      <td>0.019391</td>\n",
              "      <td>0.005540</td>\n",
              "      <td>0.013850</td>\n",
              "      <td>0.002770</td>\n",
              "      <td>1</td>\n",
              "    </tr>\n",
              "    <tr>\n",
              "      <th>3</th>\n",
              "      <td>-61.1</td>\n",
              "      <td>-107</td>\n",
              "      <td>1000</td>\n",
              "      <td>-306</td>\n",
              "      <td>0</td>\n",
              "      <td>68</td>\n",
              "      <td>1</td>\n",
              "      <td>0.049587</td>\n",
              "      <td>0.008264</td>\n",
              "      <td>0.020661</td>\n",
              "      <td>...</td>\n",
              "      <td>0.004132</td>\n",
              "      <td>0.041322</td>\n",
              "      <td>0.004132</td>\n",
              "      <td>0.008264</td>\n",
              "      <td>0.008264</td>\n",
              "      <td>0.004132</td>\n",
              "      <td>0.008264</td>\n",
              "      <td>0.012397</td>\n",
              "      <td>0.004132</td>\n",
              "      <td>1</td>\n",
              "    </tr>\n",
              "    <tr>\n",
              "      <th>4</th>\n",
              "      <td>-21.1</td>\n",
              "      <td>-76</td>\n",
              "      <td>0</td>\n",
              "      <td>-86</td>\n",
              "      <td>1</td>\n",
              "      <td>281</td>\n",
              "      <td>1</td>\n",
              "      <td>0.047619</td>\n",
              "      <td>0.023810</td>\n",
              "      <td>0.000000</td>\n",
              "      <td>...</td>\n",
              "      <td>0.047619</td>\n",
              "      <td>0.023810</td>\n",
              "      <td>0.035714</td>\n",
              "      <td>0.000000</td>\n",
              "      <td>0.000000</td>\n",
              "      <td>0.011905</td>\n",
              "      <td>0.023810</td>\n",
              "      <td>0.011905</td>\n",
              "      <td>0.023810</td>\n",
              "      <td>1</td>\n",
              "    </tr>\n",
              "  </tbody>\n",
              "</table>\n",
              "<p>5 rows × 72 columns</p>\n",
              "</div>"
            ],
            "text/plain": [
              "     0    1     2    3   4    5   6         7         8         9  ...  \\\n",
              "0 -46.8  -24  1000 -118   0    0   0  0.025862  0.017241  0.000000 ...   \n",
              "1 -28.5  -15   845  -80   0    7   0  0.017391  0.043478  0.008696 ...   \n",
              "2 -92.1  -96     0  -42   1  209   1  0.027701  0.002770  0.008310 ...   \n",
              "3 -61.1 -107  1000 -306   0   68   1  0.049587  0.008264  0.020661 ...   \n",
              "4 -21.1  -76     0  -86   1  281   1  0.047619  0.023810  0.000000 ...   \n",
              "\n",
              "         62        63        64        65        66        67        68  \\\n",
              "0  0.025862  0.025862  0.025862  0.034483  0.017241  0.025862  0.000000   \n",
              "1  0.008696  0.008696  0.008696  0.026087  0.008696  0.000000  0.008696   \n",
              "2  0.005540  0.047091  0.011080  0.016620  0.008310  0.019391  0.005540   \n",
              "3  0.004132  0.041322  0.004132  0.008264  0.008264  0.004132  0.008264   \n",
              "4  0.047619  0.023810  0.035714  0.000000  0.000000  0.011905  0.023810   \n",
              "\n",
              "         69        70  71  \n",
              "0  0.043103  0.025862   1  \n",
              "1  0.000000  0.000000   1  \n",
              "2  0.013850  0.002770   1  \n",
              "3  0.012397  0.004132   1  \n",
              "4  0.011905  0.023810   1  \n",
              "\n",
              "[5 rows x 72 columns]"
            ]
          },
          "metadata": {
            "tags": []
          },
          "execution_count": 6
        }
      ]
    },
    {
      "metadata": {
        "id": "MXekqO4UEOOO",
        "colab_type": "code",
        "colab": {
          "base_uri": "https://localhost:8080/",
          "height": 321
        },
        "outputId": "0d6675c5-0de8-41c3-b65e-918b17001574"
      },
      "cell_type": "code",
      "source": [
        "test_df.head()"
      ],
      "execution_count": 7,
      "outputs": [
        {
          "output_type": "execute_result",
          "data": {
            "text/html": [
              "<div>\n",
              "<style scoped>\n",
              "    .dataframe tbody tr th:only-of-type {\n",
              "        vertical-align: middle;\n",
              "    }\n",
              "\n",
              "    .dataframe tbody tr th {\n",
              "        vertical-align: top;\n",
              "    }\n",
              "\n",
              "    .dataframe thead th {\n",
              "        text-align: right;\n",
              "    }\n",
              "</style>\n",
              "<table border=\"1\" class=\"dataframe\">\n",
              "  <thead>\n",
              "    <tr style=\"text-align: right;\">\n",
              "      <th></th>\n",
              "      <th>0</th>\n",
              "      <th>1</th>\n",
              "      <th>2</th>\n",
              "      <th>3</th>\n",
              "      <th>4</th>\n",
              "      <th>5</th>\n",
              "      <th>6</th>\n",
              "      <th>7</th>\n",
              "      <th>8</th>\n",
              "      <th>9</th>\n",
              "      <th>...</th>\n",
              "      <th>61</th>\n",
              "      <th>62</th>\n",
              "      <th>63</th>\n",
              "      <th>64</th>\n",
              "      <th>65</th>\n",
              "      <th>66</th>\n",
              "      <th>67</th>\n",
              "      <th>68</th>\n",
              "      <th>69</th>\n",
              "      <th>70</th>\n",
              "    </tr>\n",
              "  </thead>\n",
              "  <tbody>\n",
              "    <tr>\n",
              "      <th>0</th>\n",
              "      <td>-41.60</td>\n",
              "      <td>-1000</td>\n",
              "      <td>1000</td>\n",
              "      <td>0</td>\n",
              "      <td>1</td>\n",
              "      <td>0</td>\n",
              "      <td>1</td>\n",
              "      <td>0.000000</td>\n",
              "      <td>0.000000</td>\n",
              "      <td>0.007692</td>\n",
              "      <td>...</td>\n",
              "      <td>0.030769</td>\n",
              "      <td>0.000000</td>\n",
              "      <td>0.000000</td>\n",
              "      <td>0.015385</td>\n",
              "      <td>0.023077</td>\n",
              "      <td>0.061538</td>\n",
              "      <td>0.015385</td>\n",
              "      <td>0.007692</td>\n",
              "      <td>0.069231</td>\n",
              "      <td>0.023077</td>\n",
              "    </tr>\n",
              "    <tr>\n",
              "      <th>1</th>\n",
              "      <td>-137.87</td>\n",
              "      <td>-1000</td>\n",
              "      <td>469</td>\n",
              "      <td>0</td>\n",
              "      <td>1</td>\n",
              "      <td>0</td>\n",
              "      <td>1</td>\n",
              "      <td>0.000000</td>\n",
              "      <td>0.000000</td>\n",
              "      <td>0.005479</td>\n",
              "      <td>...</td>\n",
              "      <td>0.035616</td>\n",
              "      <td>0.008219</td>\n",
              "      <td>0.016438</td>\n",
              "      <td>0.024658</td>\n",
              "      <td>0.038356</td>\n",
              "      <td>0.032877</td>\n",
              "      <td>0.027397</td>\n",
              "      <td>0.019178</td>\n",
              "      <td>0.057534</td>\n",
              "      <td>0.019178</td>\n",
              "    </tr>\n",
              "    <tr>\n",
              "      <th>2</th>\n",
              "      <td>-61.40</td>\n",
              "      <td>-1000</td>\n",
              "      <td>1000</td>\n",
              "      <td>0</td>\n",
              "      <td>1</td>\n",
              "      <td>0</td>\n",
              "      <td>1</td>\n",
              "      <td>0.011173</td>\n",
              "      <td>0.000000</td>\n",
              "      <td>0.005587</td>\n",
              "      <td>...</td>\n",
              "      <td>0.033520</td>\n",
              "      <td>0.016760</td>\n",
              "      <td>0.027933</td>\n",
              "      <td>0.022346</td>\n",
              "      <td>0.005587</td>\n",
              "      <td>0.027933</td>\n",
              "      <td>0.016760</td>\n",
              "      <td>0.005587</td>\n",
              "      <td>0.100559</td>\n",
              "      <td>0.011173</td>\n",
              "    </tr>\n",
              "    <tr>\n",
              "      <th>3</th>\n",
              "      <td>-33.10</td>\n",
              "      <td>-1000</td>\n",
              "      <td>1000</td>\n",
              "      <td>0</td>\n",
              "      <td>0</td>\n",
              "      <td>0</td>\n",
              "      <td>0</td>\n",
              "      <td>0.000000</td>\n",
              "      <td>0.000000</td>\n",
              "      <td>0.000000</td>\n",
              "      <td>...</td>\n",
              "      <td>0.031746</td>\n",
              "      <td>0.000000</td>\n",
              "      <td>0.023810</td>\n",
              "      <td>0.000000</td>\n",
              "      <td>0.047619</td>\n",
              "      <td>0.063492</td>\n",
              "      <td>0.015873</td>\n",
              "      <td>0.000000</td>\n",
              "      <td>0.103175</td>\n",
              "      <td>0.023810</td>\n",
              "    </tr>\n",
              "    <tr>\n",
              "      <th>4</th>\n",
              "      <td>-190.40</td>\n",
              "      <td>-102</td>\n",
              "      <td>1000</td>\n",
              "      <td>0</td>\n",
              "      <td>1</td>\n",
              "      <td>0</td>\n",
              "      <td>1</td>\n",
              "      <td>0.000000</td>\n",
              "      <td>0.007335</td>\n",
              "      <td>0.002445</td>\n",
              "      <td>...</td>\n",
              "      <td>0.029340</td>\n",
              "      <td>0.012225</td>\n",
              "      <td>0.007335</td>\n",
              "      <td>0.034230</td>\n",
              "      <td>0.046455</td>\n",
              "      <td>0.029340</td>\n",
              "      <td>0.007335</td>\n",
              "      <td>0.022005</td>\n",
              "      <td>0.070905</td>\n",
              "      <td>0.007335</td>\n",
              "    </tr>\n",
              "  </tbody>\n",
              "</table>\n",
              "<p>5 rows × 71 columns</p>\n",
              "</div>"
            ],
            "text/plain": [
              "       0     1     2   3   4   5   6         7         8         9     ...     \\\n",
              "0  -41.60 -1000  1000   0   1   0   1  0.000000  0.000000  0.007692    ...      \n",
              "1 -137.87 -1000   469   0   1   0   1  0.000000  0.000000  0.005479    ...      \n",
              "2  -61.40 -1000  1000   0   1   0   1  0.011173  0.000000  0.005587    ...      \n",
              "3  -33.10 -1000  1000   0   0   0   0  0.000000  0.000000  0.000000    ...      \n",
              "4 -190.40  -102  1000   0   1   0   1  0.000000  0.007335  0.002445    ...      \n",
              "\n",
              "         61        62        63        64        65        66        67  \\\n",
              "0  0.030769  0.000000  0.000000  0.015385  0.023077  0.061538  0.015385   \n",
              "1  0.035616  0.008219  0.016438  0.024658  0.038356  0.032877  0.027397   \n",
              "2  0.033520  0.016760  0.027933  0.022346  0.005587  0.027933  0.016760   \n",
              "3  0.031746  0.000000  0.023810  0.000000  0.047619  0.063492  0.015873   \n",
              "4  0.029340  0.012225  0.007335  0.034230  0.046455  0.029340  0.007335   \n",
              "\n",
              "         68        69        70  \n",
              "0  0.007692  0.069231  0.023077  \n",
              "1  0.019178  0.057534  0.019178  \n",
              "2  0.005587  0.100559  0.011173  \n",
              "3  0.000000  0.103175  0.023810  \n",
              "4  0.022005  0.070905  0.007335  \n",
              "\n",
              "[5 rows x 71 columns]"
            ]
          },
          "metadata": {
            "tags": []
          },
          "execution_count": 7
        }
      ]
    },
    {
      "metadata": {
        "id": "joXIB_p2EqCQ",
        "colab_type": "text"
      },
      "cell_type": "markdown",
      "source": [
        "# Filter By Importance"
      ]
    },
    {
      "metadata": {
        "id": "YGNIYdDoEv9s",
        "colab_type": "code",
        "colab": {}
      },
      "cell_type": "code",
      "source": [
        "train_y = train_df.values[:,  -1]\n",
        "train_x = train_df.values[:, :-1]"
      ],
      "execution_count": 0,
      "outputs": []
    },
    {
      "metadata": {
        "id": "yz1fFPlkGl-8",
        "colab_type": "code",
        "colab": {
          "base_uri": "https://localhost:8080/",
          "height": 34
        },
        "outputId": "542592be-d479-4356-8a6d-2299aee5ba44"
      },
      "cell_type": "code",
      "source": [
        "from sklearn.feature_selection import VarianceThreshold\n",
        "# Remove all the columns which have constant values. \n",
        "# These columns have zero std deviation.\n",
        "variance_threshold = 0.00015\n",
        "selector           = VarianceThreshold(variance_threshold)\n",
        "train_x            = selector.fit_transform(train_x)\n",
        "\n",
        "print(\"Train Data Reduced to {} Based on the Variance Threshold {}\".format(train_x.shape, variance_threshold ))"
      ],
      "execution_count": 9,
      "outputs": [
        {
          "output_type": "stream",
          "text": [
            "Train Data Reduced to (3817, 58) Based on the Variance Threshold 0.00015\n"
          ],
          "name": "stdout"
        }
      ]
    },
    {
      "metadata": {
        "id": "-SPd0DZzIbLi",
        "colab_type": "code",
        "colab": {
          "base_uri": "https://localhost:8080/",
          "height": 909
        },
        "outputId": "863b00ce-d003-452d-d2a2-dab35851ab93"
      },
      "cell_type": "code",
      "source": [
        "#Feature importance Ranking\n",
        "from sklearn.ensemble import RandomForestClassifier\n",
        "# Build a forest and compute the feature importances\n",
        "forest = RandomForestClassifier(n_estimators=100, \n",
        "                                max_depth=2,\n",
        "                                random_state=0)\n",
        "forest.fit(train_x, train_y)\n",
        "importances = forest.feature_importances_\n",
        "std = np.std([tree.feature_importances_ for tree in forest.estimators_],\n",
        "             axis=0)\n",
        "indices = np.argsort(importances)[::-1]\n",
        "\n",
        "# Plot the feature importances of the forest\n",
        "plt.figure()\n",
        "plt.figure(figsize=(10,15))\n",
        "plt.title(\"Feature importances\")\n",
        "plt.barh(range(train_x.shape[1]), importances[indices],\n",
        "       color=\"r\", align=\"center\")\n",
        "plt.yticks(range(train_x.shape[1]), indices)\n",
        "plt.ylim([-1, train_x.shape[1]])\n",
        "plt.ylabel(\"Features\")\n",
        "plt.xlabel(\"Importance\")\n",
        "plt.show()"
      ],
      "execution_count": 10,
      "outputs": [
        {
          "output_type": "display_data",
          "data": {
            "text/plain": [
              "<Figure size 576x396 with 0 Axes>"
            ]
          },
          "metadata": {
            "tags": []
          }
        },
        {
          "output_type": "display_data",
          "data": {
            "image/png": "[encoded data removed]",
            "text/plain": [
              "<Figure size 720x1080 with 1 Axes>"
            ]
          },
          "metadata": {
            "tags": []
          }
        }
      ]
    },
    {
      "metadata": {
        "id": "QT4YwuxUTscm",
        "colab_type": "code",
        "colab": {
          "base_uri": "https://localhost:8080/",
          "height": 1003
        },
        "outputId": "d09e0e29-ef22-4192-e9d9-c2cc12d502af"
      },
      "cell_type": "code",
      "source": [
        "# Print the feature ranking\n",
        "feature_ranking = pd.DataFrame()\n",
        "feature_ranking.index.name\n",
        "# print(\"Feature ranking:\")\n",
        "for f in range(train_x.shape[1]):\n",
        "    print(\"%d. feature %d (%f)\" % (f + 1, indices[f], importances[indices[f]]))"
      ],
      "execution_count": 11,
      "outputs": [
        {
          "output_type": "stream",
          "text": [
            "1. feature 3 (0.224708)\n",
            "2. feature 2 (0.195217)\n",
            "3. feature 5 (0.137143)\n",
            "4. feature 25 (0.056388)\n",
            "5. feature 56 (0.053802)\n",
            "6. feature 57 (0.044466)\n",
            "7. feature 0 (0.039691)\n",
            "8. feature 40 (0.032020)\n",
            "9. feature 29 (0.031168)\n",
            "10. feature 1 (0.027802)\n",
            "11. feature 47 (0.027005)\n",
            "12. feature 41 (0.022518)\n",
            "13. feature 49 (0.016312)\n",
            "14. feature 44 (0.010582)\n",
            "15. feature 20 (0.006935)\n",
            "16. feature 52 (0.006635)\n",
            "17. feature 17 (0.006366)\n",
            "18. feature 13 (0.006264)\n",
            "19. feature 30 (0.005587)\n",
            "20. feature 43 (0.003924)\n",
            "21. feature 8 (0.003858)\n",
            "22. feature 42 (0.003800)\n",
            "23. feature 26 (0.003767)\n",
            "24. feature 33 (0.003052)\n",
            "25. feature 46 (0.002881)\n",
            "26. feature 36 (0.002831)\n",
            "27. feature 55 (0.002783)\n",
            "28. feature 10 (0.002558)\n",
            "29. feature 11 (0.002300)\n",
            "30. feature 22 (0.002184)\n",
            "31. feature 18 (0.001994)\n",
            "32. feature 31 (0.001822)\n",
            "33. feature 35 (0.001723)\n",
            "34. feature 51 (0.001538)\n",
            "35. feature 39 (0.001435)\n",
            "36. feature 37 (0.001420)\n",
            "37. feature 34 (0.001242)\n",
            "38. feature 14 (0.001028)\n",
            "39. feature 7 (0.000955)\n",
            "40. feature 15 (0.000871)\n",
            "41. feature 21 (0.000808)\n",
            "42. feature 32 (0.000408)\n",
            "43. feature 28 (0.000211)\n",
            "44. feature 16 (0.000000)\n",
            "45. feature 19 (0.000000)\n",
            "46. feature 12 (0.000000)\n",
            "47. feature 23 (0.000000)\n",
            "48. feature 24 (0.000000)\n",
            "49. feature 9 (0.000000)\n",
            "50. feature 27 (0.000000)\n",
            "51. feature 38 (0.000000)\n",
            "52. feature 6 (0.000000)\n",
            "53. feature 53 (0.000000)\n",
            "54. feature 4 (0.000000)\n",
            "55. feature 54 (0.000000)\n",
            "56. feature 45 (0.000000)\n",
            "57. feature 48 (0.000000)\n",
            "58. feature 50 (0.000000)\n"
          ],
          "name": "stdout"
        }
      ]
    },
    {
      "metadata": {
        "id": "iqQ4HJBwS-Db",
        "colab_type": "code",
        "colab": {
          "base_uri": "https://localhost:8080/",
          "height": 34
        },
        "outputId": "c9a8cfcd-2496-4bec-a399-ff028501c91d"
      },
      "cell_type": "code",
      "source": [
        "#Filter by importance\n",
        "importance_threshold = 0.0002\n",
        "train_x = train_x[: , importances > importance_threshold ]\n",
        "print(\"Train Data Reduced to {} Based on Importance\".format(train_x.shape ))"
      ],
      "execution_count": 12,
      "outputs": [
        {
          "output_type": "stream",
          "text": [
            "Train Data Reduced to (3817, 43) Based on Importance\n"
          ],
          "name": "stdout"
        }
      ]
    },
    {
      "metadata": {
        "id": "ilRd120Rzd3K",
        "colab_type": "text"
      },
      "cell_type": "markdown",
      "source": [
        "# KNN"
      ]
    },
    {
      "metadata": {
        "id": "9jvguln2zYBQ",
        "colab_type": "code",
        "colab": {
          "base_uri": "https://localhost:8080/",
          "height": 102
        },
        "outputId": "2dc84f38-0561-4938-f726-eeeffe5caac4"
      },
      "cell_type": "code",
      "source": [
        "from sklearn.model_selection import GridSearchCV\n",
        "from sklearn.neighbors import KNeighborsClassifier\n",
        "\n",
        "k_range = list(range(31,41))\n",
        "#weight_options = [\"uniform\", \"distance\"]\n",
        "# param_grid = dict(n_neighbors = k_range, weights = weight_options)\n",
        "\n",
        "param_grid = dict(n_neighbors = k_range)\n",
        "knn = KNeighborsClassifier()\n",
        "\n",
        "grid = GridSearchCV(\n",
        "    knn, \n",
        "    param_grid, \n",
        "    cv = 10, \n",
        "    iid=False,\n",
        "#     scoring = [\"average_precision\", 'accuracy', 'roc_auc' ],\n",
        "    scoring = ['average_precision','precision', 'recall'],\n",
        "    refit = 'average_precision',\n",
        "    #     scoring = 'average_precision',\n",
        ")\n",
        "grid.fit(train_x,train_y)\n",
        "\n",
        "print (grid.best_score_)\n",
        "print (grid.best_params_)\n",
        "print (grid.best_estimator_)"
      ],
      "execution_count": 14,
      "outputs": [
        {
          "output_type": "stream",
          "text": [
            "0.5081216686088716\n",
            "{'n_neighbors': 38}\n",
            "KNeighborsClassifier(algorithm='auto', leaf_size=30, metric='minkowski',\n",
            "           metric_params=None, n_jobs=None, n_neighbors=38, p=2,\n",
            "           weights='uniform')\n"
          ],
          "name": "stdout"
        }
      ]
    },
    {
      "metadata": {
        "id": "9ZawT3TtdJMp",
        "colab_type": "code",
        "colab": {
          "base_uri": "https://localhost:8080/",
          "height": 463
        },
        "outputId": "a8174542-0433-4cd7-b286-d945392280f3"
      },
      "cell_type": "code",
      "source": [
        "from sklearn.metrics import precision_recall_curve\n",
        "import matplotlib.pyplot as plt\n",
        "from sklearn.utils.fixes import signature\n",
        "\n",
        "precision = grid.cv_results_['mean_test_average_precision']\n",
        "recall    = grid.cv_results_['mean_test_recall']\n",
        "print(precision,'\\n\\n', recall)\n",
        "# In matplotlib < 1.5, plt.fill_between does not have a 'step' argument\n",
        "step_kwargs = ({'step': 'post'}\n",
        "               if 'step' in signature(plt.fill_between).parameters\n",
        "               else {})\n",
        "plt.step(recall, precision, color='b', alpha=0.2,\n",
        "         where='post')\n",
        "# plt.fill_between(recall, precision, alpha=0.2, color='b', **step_kwargs)\n",
        "plt.scatter(recall, precision)\n",
        "plt.xlabel('Recall')\n",
        "plt.ylabel('Precision')\n",
        "plt.ylim([0.0, 1.05])\n",
        "plt.xlim([0.0, 1.0])\n",
        "# plt.title('2-class Precision-Recall curve: AP={0:0.2f}'.format(\n",
        "#           average_precision))             "
      ],
      "execution_count": 17,
      "outputs": [
        {
          "output_type": "stream",
          "text": [
            "[0.50038134 0.49571228 0.49913759 0.50584219 0.50087042 0.50483327\n",
            " 0.50735206 0.50812167 0.5076334  0.50656042] \n",
            "\n",
            " [0.30663866 0.29806723 0.31815126 0.30957983 0.3210084  0.31243697\n",
            " 0.32109244 0.31243697 0.31815126 0.31235294]\n"
          ],
          "name": "stdout"
        },
        {
          "output_type": "execute_result",
          "data": {
            "text/plain": [
              "(0.0, 1.0)"
            ]
          },
          "metadata": {
            "tags": []
          },
          "execution_count": 17
        },
        {
          "output_type": "display_data",
          "data": {
            "image/png": "[encoded data removed]",
            "text/plain": [
              "<Figure size 576x396 with 1 Axes>"
            ]
          },
          "metadata": {
            "tags": []
          }
        }
      ]
    },
    {
      "metadata": {
        "id": "jc15iReicWbX",
        "colab_type": "code",
        "colab": {
          "base_uri": "https://localhost:8080/",
          "height": 1394
        },
        "outputId": "3292e858-589d-4827-9cd2-044480ba32a6"
      },
      "cell_type": "code",
      "source": [
        "sorted(grid.cv_results_.keys())"
      ],
      "execution_count": 18,
      "outputs": [
        {
          "output_type": "execute_result",
          "data": {
            "text/plain": [
              "['mean_fit_time',\n",
              " 'mean_score_time',\n",
              " 'mean_test_average_precision',\n",
              " 'mean_test_precision',\n",
              " 'mean_test_recall',\n",
              " 'mean_train_average_precision',\n",
              " 'mean_train_precision',\n",
              " 'mean_train_recall',\n",
              " 'param_n_neighbors',\n",
              " 'params',\n",
              " 'rank_test_average_precision',\n",
              " 'rank_test_precision',\n",
              " 'rank_test_recall',\n",
              " 'split0_test_average_precision',\n",
              " 'split0_test_precision',\n",
              " 'split0_test_recall',\n",
              " 'split0_train_average_precision',\n",
              " 'split0_train_precision',\n",
              " 'split0_train_recall',\n",
              " 'split1_test_average_precision',\n",
              " 'split1_test_precision',\n",
              " 'split1_test_recall',\n",
              " 'split1_train_average_precision',\n",
              " 'split1_train_precision',\n",
              " 'split1_train_recall',\n",
              " 'split2_test_average_precision',\n",
              " 'split2_test_precision',\n",
              " 'split2_test_recall',\n",
              " 'split2_train_average_precision',\n",
              " 'split2_train_precision',\n",
              " 'split2_train_recall',\n",
              " 'split3_test_average_precision',\n",
              " 'split3_test_precision',\n",
              " 'split3_test_recall',\n",
              " 'split3_train_average_precision',\n",
              " 'split3_train_precision',\n",
              " 'split3_train_recall',\n",
              " 'split4_test_average_precision',\n",
              " 'split4_test_precision',\n",
              " 'split4_test_recall',\n",
              " 'split4_train_average_precision',\n",
              " 'split4_train_precision',\n",
              " 'split4_train_recall',\n",
              " 'split5_test_average_precision',\n",
              " 'split5_test_precision',\n",
              " 'split5_test_recall',\n",
              " 'split5_train_average_precision',\n",
              " 'split5_train_precision',\n",
              " 'split5_train_recall',\n",
              " 'split6_test_average_precision',\n",
              " 'split6_test_precision',\n",
              " 'split6_test_recall',\n",
              " 'split6_train_average_precision',\n",
              " 'split6_train_precision',\n",
              " 'split6_train_recall',\n",
              " 'split7_test_average_precision',\n",
              " 'split7_test_precision',\n",
              " 'split7_test_recall',\n",
              " 'split7_train_average_precision',\n",
              " 'split7_train_precision',\n",
              " 'split7_train_recall',\n",
              " 'split8_test_average_precision',\n",
              " 'split8_test_precision',\n",
              " 'split8_test_recall',\n",
              " 'split8_train_average_precision',\n",
              " 'split8_train_precision',\n",
              " 'split8_train_recall',\n",
              " 'split9_test_average_precision',\n",
              " 'split9_test_precision',\n",
              " 'split9_test_recall',\n",
              " 'split9_train_average_precision',\n",
              " 'split9_train_precision',\n",
              " 'split9_train_recall',\n",
              " 'std_fit_time',\n",
              " 'std_score_time',\n",
              " 'std_test_average_precision',\n",
              " 'std_test_precision',\n",
              " 'std_test_recall',\n",
              " 'std_train_average_precision',\n",
              " 'std_train_precision',\n",
              " 'std_train_recall']"
            ]
          },
          "metadata": {
            "tags": []
          },
          "execution_count": 18
        }
      ]
    },
    {
      "metadata": {
        "colab_type": "code",
        "id": "5cUPofGXVCh_",
        "colab": {
          "base_uri": "https://localhost:8080/",
          "height": 204
        },
        "outputId": "65b540b6-c9c2-4045-9f3c-8fcf6337a56e"
      },
      "cell_type": "code",
      "source": [
        "import numpy as np\n",
        "from sklearn.model_selection import KFold\n",
        "from sklearn.metrics import average_precision_score\n",
        "from sklearn.metrics import precision_recall_curve\n",
        "np.warnings.filterwarnings('ignore')\n",
        "\n",
        "ave_precision = np.array([])\n",
        "ave_recall    = np.array([])\n",
        "counter       = 0\n",
        "kf            = KFold(n_splits=10)\n",
        "\n",
        "for train_index, test_index in kf.split(train_x):\n",
        "  #print(\"Fold:\", couter); counter += 1\n",
        "  X_train, X_test = train_x[train_index], train_x[test_index]\n",
        "  y_train, y_test = train_y[train_index], train_y[test_index]\n",
        "  \n",
        "  predict_proba        = grid.predict_proba(X_test)\n",
        "  y_score              = predict_proba[:, 1]\n",
        "  precision, recall, _ = precision_recall_curve(y_test, y_score)\n",
        "  ave_precision        = np.concatenate((ave_precision, precision), axis=0)\n",
        "  ave_recall           = np.concatenate((ave_precision, recall), axis=0)\n",
        "  \n",
        "\n",
        "  average_precision    = average_precision_score(y_test, y_score)\n",
        "  print(average_precision, X_test.shape, y_test.shape)\n",
        "\n",
        "ave_precision.shape\n",
        "#for i in range(10):\n",
        "#  print(\"Pre \", len(ave_precision[i]), \" Rec \", len(ave_recall[i]))"
      ],
      "execution_count": 19,
      "outputs": [
        {
          "output_type": "stream",
          "text": [
            "0.992338872420365 (382, 43) (382,)\n",
            "nan (382, 43) (382,)\n",
            "nan (382, 43) (382,)\n",
            "nan (382, 43) (382,)\n",
            "nan (382, 43) (382,)\n",
            "nan (382, 43) (382,)\n",
            "nan (382, 43) (382,)\n",
            "nan (381, 43) (381,)\n",
            "nan (381, 43) (381,)\n",
            "nan (381, 43) (381,)\n"
          ],
          "name": "stdout"
        },
        {
          "output_type": "execute_result",
          "data": {
            "text/plain": [
              "(53,)"
            ]
          },
          "metadata": {
            "tags": []
          },
          "execution_count": 19
        }
      ]
    },
    {
      "metadata": {
        "id": "_B5LGaMM9d1F",
        "colab_type": "code",
        "colab": {}
      },
      "cell_type": "code",
      "source": [
        "#sorted(grid.scorer_.keys()) #SVM choose c and kernel"
      ],
      "execution_count": 0,
      "outputs": []
    },
    {
      "metadata": {
        "id": "2cTleyEf68qr",
        "colab_type": "code",
        "colab": {}
      },
      "cell_type": "code",
      "source": [
        "predict_proba = grid.predict_proba(train_x)\n",
        "y_score = predict_proba[:, 1]"
      ],
      "execution_count": 0,
      "outputs": []
    },
    {
      "metadata": {
        "id": "3AzqTa0w4o70",
        "colab_type": "code",
        "colab": {
          "base_uri": "https://localhost:8080/",
          "height": 427
        },
        "outputId": "ed8cd028-01c4-47b4-b99e-7fcbf05820fe"
      },
      "cell_type": "code",
      "source": [
        "from sklearn.metrics import precision_recall_curve\n",
        "import matplotlib.pyplot as plt\n",
        "from sklearn.utils.fixes import signature\n",
        "from sklearn.metrics import average_precision_score\n",
        "\n",
        "average_precision = average_precision_score(train_y, y_score)\n",
        "print('Average precision-recall score: {0:0.2f}'.format(\n",
        "      average_precision))\n",
        "\n",
        "precision, recall, _ = precision_recall_curve(train_y, y_score)\n",
        "\n",
        "# In matplotlib < 1.5, plt.fill_between does not have a 'step' argument\n",
        "step_kwargs = ({'step': 'post'}\n",
        "               if 'step' in signature(plt.fill_between).parameters\n",
        "               else {})\n",
        "plt.step(recall, precision, color='b', alpha=0.2,\n",
        "         where='post')\n",
        "plt.fill_between(recall, precision, alpha=0.2, color='b', **step_kwargs)\n",
        "\n",
        "plt.xlabel('Recall')\n",
        "plt.ylabel('Precision')\n",
        "plt.ylim([0.0, 1.05])\n",
        "plt.xlim([0.0, 1.0])\n",
        "plt.title('2-class Precision-Recall curve: AP={0:0.2f}'.format(\n",
        "          average_precision))             \n",
        "\n",
        "print(y_score)\n",
        "print(train_y)"
      ],
      "execution_count": 21,
      "outputs": [
        {
          "output_type": "stream",
          "text": [
            "Average precision-recall score: 0.54\n",
            "[0.39473684 0.05263158 0.71052632 ... 0.86842105 0.         0.02631579]\n",
            "[1. 1. 1. ... 0. 0. 0.]\n"
          ],
          "name": "stdout"
        },
        {
          "output_type": "display_data",
          "data": {
            "image/png": "[encoded data removed]",
            "text/plain": [
              "<Figure size 576x396 with 1 Axes>"
            ]
          },
          "metadata": {
            "tags": []
          }
        }
      ]
    },
    {
      "metadata": {
        "id": "CxAAdpPr_iwr",
        "colab_type": "code",
        "colab": {
          "base_uri": "https://localhost:8080/",
          "height": 347
        },
        "outputId": "125e8bf5-05d7-423c-9c2b-4ae547804e8d"
      },
      "cell_type": "code",
      "source": [
        "from sklearn.metrics import roc_curve, roc_auc_score\n",
        "fpr, tpr, _ = roc_curve(train_y,  y_score)\n",
        "auc         = roc_auc_score(train_y,  y_score)\n",
        "plt.plot(fpr,tpr,label=\"data 1, auc=\"+str(auc))\n",
        "plt.legend(loc=4)\n",
        "plt.show()"
      ],
      "execution_count": 22,
      "outputs": [
        {
          "output_type": "display_data",
          "data": {
            "image/png": "[encoded data removed]",
            "text/plain": [
              "<Figure size 576x396 with 1 Axes>"
            ]
          },
          "metadata": {
            "tags": []
          }
        }
      ]
    },
    {
      "metadata": {
        "id": "9gmwuPTXI61y",
        "colab_type": "text"
      },
      "cell_type": "markdown",
      "source": [
        "# SVM"
      ]
    },
    {
      "metadata": {
        "id": "OEoRFtYSJpVQ",
        "colab_type": "code",
        "colab": {}
      },
      "cell_type": "code",
      "source": [
        "from sklearn import svm\n",
        "from sklearn.model_selection import GridSearchCV\n",
        "def svc_param_selection(X, y, nfolds):\n",
        "    Cs = [0.001, 0.01, 0.1, 1, 10]\n",
        "    gammas = [0.001, 0.01, 0.1, 1]\n",
        "    kernels = [\"rbf\", \"linear\"]\n",
        "    param_grid = {'C': Cs, 'gamma' : gammas, \"kernel\" : kernels }\n",
        "    grid_search = GridSearchCV(svm.SVC(), param_grid, cv=nfolds)\n",
        "    grid_search.fit(X, y)\n",
        "    grid_search.best_params_\n",
        "    return grid_search.best_params_\n",
        "  \n",
        "svc_param_selection(train_x, train_y, 10)"
      ],
      "execution_count": 0,
      "outputs": []
    }
  ]
}